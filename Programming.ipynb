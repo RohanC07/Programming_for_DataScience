{
  "nbformat": 4,
  "nbformat_minor": 0,
  "metadata": {
    "colab": {
      "provenance": [],
      "authorship_tag": "ABX9TyODPh9wbWQB4N0MOqt4PiSo",
      "include_colab_link": true
    },
    "kernelspec": {
      "name": "python3",
      "display_name": "Python 3"
    },
    "language_info": {
      "name": "python"
    }
  },
  "cells": [
    {
      "cell_type": "markdown",
      "metadata": {
        "id": "view-in-github",
        "colab_type": "text"
      },
      "source": [
        "<a href=\"https://colab.research.google.com/github/RohanC07/Programming_for_DataScience/blob/main/Programming.ipynb\" target=\"_parent\"><img src=\"https://colab.research.google.com/assets/colab-badge.svg\" alt=\"Open In Colab\"/></a>"
      ]
    },
    {
      "cell_type": "markdown",
      "source": [
        "### This dataset represents the **All India Consumer Price Index (CPI)** for both rural and urban areas up to September 2014. The CPI measures changes in the average price level of a basket of consumer goods and services over time, serving as an important indicator of inflation in the country. The dataset covers various regions, helping to analyze price trends and inflationary pressures in rural and urban sectors. The data is crucial for understanding regional price disparities and evaluating the impact of inflation on different population segments.\n"
      ],
      "metadata": {
        "id": "rLDAOQZZzFFm"
      }
    },
    {
      "cell_type": "markdown",
      "source": [
        "**(1)** **Importing the CSV file into the Google Colab!**"
      ],
      "metadata": {
        "id": "N67zXAQdzndf"
      }
    },
    {
      "cell_type": "code",
      "execution_count": null,
      "metadata": {
        "id": "f95xyiMXywuU"
      },
      "outputs": [],
      "source": [
        "from google.colab import drive\n",
        "drive.mount('/content/drive')"
      ]
    },
    {
      "cell_type": "markdown",
      "source": [
        "**(2)** Importing necessary libraries and loading the CSV file using **Pandas,numpy,pyplot**,**seaborn** and **plotly express**"
      ],
      "metadata": {
        "id": "A1z4hSIP0iI5"
      }
    },
    {
      "cell_type": "code",
      "source": [
        "# Import necessary libraries\n",
        "import pandas as pd\n",
        "import numpy as np\n",
        "import matplotlib.pyplot as plt\n",
        "import seaborn as sns\n",
        "import plotly.express as px\n",
        "from scipy import stats\n",
        "import statsmodels.api as sm\n",
        "from statsmodels.formula.api import ols\n",
        "import os\n",
        "import glob\n",
        "from scipy.stats import ttest_ind\n",
        "from scipy import stats\n",
        "import plotly.express as px\n",
        "\n",
        "# *Dataset Description*\n",
        "# Load your dataset (replace with your file path)\n",
        "data = pd.read_csv(\"/content/drive/MyDrive/Colab Notebooks/Assesment/Programming for Data Science/datafile.csv\")\n",
        "data\n"
      ],
      "metadata": {
        "id": "XdjpnfZZ0nbG"
      },
      "execution_count": null,
      "outputs": []
    },
    {
      "cell_type": "markdown",
      "source": [
        "**(3) Visualisation** of the data will help in understanding and interpreting the data."
      ],
      "metadata": {
        "id": "uhlx2C8Q01GG"
      }
    },
    {
      "cell_type": "code",
      "source": [
        "# Basic Summary Statistics\n",
        "def basic_summary_statistics(data):\n",
        "    \"\"\"Generate basic summary statistics.\"\"\"\n",
        "    print(\"\\nBasic Summary Statistics:\")\n",
        "    print(data.describe())  # For numerical data\n",
        "    print(\"\\nCategorical Data Frequencies:\")\n",
        "    for col in data.select_dtypes(include=['object']).columns:\n",
        "        print(f\"{col} - \\n{data[col].value_counts()}\")\n",
        "\n",
        "# Ensure the \"Year\" column is strictly numeric\n",
        "data[\"Year\"] = pd.to_numeric(data[\"Year\"], errors=\"coerce\")\n",
        "# Drop rows where \"Year\" is missing or invalid\n",
        "data = data.dropna(subset=[\"Year\"])\n",
        "# Ensure \"Year\" is an integer\n",
        "data[\"Year\"] = data[\"Year\"].astype(int)\n",
        "# Clean the \"Housing\" column to ensure it contains only numeric values\n",
        "data[\"Housing\"] = pd.to_numeric(data[\"Housing\"], errors=\"coerce\")\n",
        "# Impute missing \"Housing\" values with the mean\n",
        "housing_mean = data[\"Housing\"].mean()\n",
        "data[\"Housing\"].fillna(housing_mean, inplace=True)\n",
        "# Select numeric columns for analysis (excluding \"Year\")\n",
        "numeric_columns = data.select_dtypes(include=[\"number\"]).columns\n",
        "numeric_columns_without_year = [col for col in numeric_columns if col != \"Year\"]\n",
        "# Group by \"Year\" and calculate mean for the numeric columns (excluding \"Year\")\n",
        "grouped_data = data.groupby(\"Year\")[numeric_columns_without_year].mean().reset_index()\n",
        "\n",
        "# Plot the trends for the top 10 indicators\n",
        "plt.figure(figsize=(14, 8))\n",
        "top_10_indicators = grouped_data.mean().sort_values(ascending=False).head(10).index.tolist()\n",
        "\n",
        "for indicator in top_10_indicators:\n",
        "    if indicator in numeric_columns_without_year:  # Only include numeric indicators\n",
        "        plt.plot(grouped_data[\"Year\"], grouped_data[indicator], marker=\"o\", label=indicator)\n",
        "\n",
        "plt.title(\"Top 10 Indicators Over Years\", fontsize=16)\n",
        "plt.xlabel(\"Year\", fontsize=14)\n",
        "plt.ylabel(\"Average Value\", fontsize=14)\n",
        "plt.legend(title=\"Indicators\", bbox_to_anchor=(1.05, 1), loc=\"upper left\")\n",
        "plt.grid(True)\n",
        "plt.tight_layout()\n",
        "plt.show()"
      ],
      "metadata": {
        "id": "hZzs2Huk04Qu"
      },
      "execution_count": null,
      "outputs": []
    },
    {
      "cell_type": "code",
      "source": [
        "# Ensure the \"Year\" column is strictly numeric\n",
        "data[\"Year\"] = pd.to_numeric(data[\"Year\"], errors=\"coerce\")\n",
        "\n",
        "# Drop rows where \"Year\" is missing or invalid\n",
        "data = data.dropna(subset=[\"Year\"])\n",
        "\n",
        "# Ensure \"Year\" is an integer\n",
        "data[\"Year\"] = data[\"Year\"].astype(int)\n",
        "\n",
        "# Clean the \"Housing\" column to ensure it contains only numeric values\n",
        "data[\"Housing\"] = pd.to_numeric(data[\"Housing\"], errors=\"coerce\")\n",
        "\n",
        "# Optionally: Impute missing \"Housing\" values with the mean\n",
        "housing_mean = data[\"Housing\"].mean()\n",
        "data[\"Housing\"].fillna(housing_mean, inplace=True)\n",
        "\n",
        "# Filter data for Urban and Rural sectors\n",
        "urban_rural_data = data[data[\"Sector\"].isin([\"Urban\", \"Rural\"])]\n",
        "\n",
        "# Group by Year and Sector to calculate average CPI and Health\n",
        "urban_rural_cpi_health = urban_rural_data[[\"Year\", \"Sector\", \"General index\", \"Health\"]]\n",
        "urban_rural_cpi_health_grouped = urban_rural_cpi_health.groupby([\"Year\", \"Sector\"]).mean().reset_index()\n",
        "\n",
        "# Scatter plot with regression lines for CPI vs. Health for Urban and Rural\n",
        "plt.figure(figsize=(14, 8))\n",
        "\n",
        "# Scatter plot for Urban\n",
        "sns.scatterplot(data=urban_rural_cpi_health_grouped[urban_rural_cpi_health_grouped[\"Sector\"] == \"Urban\"],\n",
        "                x=\"General index\", y=\"Health\", color=\"blue\", label=\"Urban\")\n",
        "sns.regplot(data=urban_rural_cpi_health_grouped[urban_rural_cpi_health_grouped[\"Sector\"] == \"Urban\"],\n",
        "            x=\"General index\", y=\"Health\", scatter=False, color=\"blue\", line_kws={\"linestyle\":\"--\"})\n",
        "\n",
        "# Scatter plot for Rural\n",
        "sns.scatterplot(data=urban_rural_cpi_health_grouped[urban_rural_cpi_health_grouped[\"Sector\"] == \"Rural\"],\n",
        "                x=\"General index\", y=\"Health\", color=\"red\", label=\"Rural\")\n",
        "sns.regplot(data=urban_rural_cpi_health_grouped[urban_rural_cpi_health_grouped[\"Sector\"] == \"Rural\"],\n",
        "            x=\"General index\", y=\"Health\", scatter=False, color=\"red\", line_kws={\"linestyle\":\"--\"})\n",
        "\n",
        "# Titles and labels\n",
        "plt.title(\"CPI (General Index) vs. Health: Urban vs Rural\", fontsize=16)\n",
        "plt.xlabel(\"CPI (General Index)\", fontsize=14)\n",
        "plt.ylabel(\"Health\", fontsize=14)\n",
        "plt.legend(title=\"Sector\", bbox_to_anchor=(1.05, 1), loc=\"upper left\")\n",
        "plt.grid(True)\n",
        "plt.tight_layout()\n",
        "plt.show()"
      ],
      "metadata": {
        "id": "wym8fBAw1C3X"
      },
      "execution_count": null,
      "outputs": []
    },
    {
      "cell_type": "markdown",
      "source": [
        "**(4)** Using **Box plots** italicized text to understand the distribution, median, and potential outliers for numerical columns across different categorical columns"
      ],
      "metadata": {
        "id": "pp8fKwug1DOm"
      }
    },
    {
      "cell_type": "code",
      "source": [
        "#Box plot for distribution\n",
        "plt.figure(figsize=(8, 6))\n",
        "\n",
        "#boxplot with a different color palette\n",
        "sns.boxplot(x='Sector', y='General index', data=data,\n",
        "            palette=\"Set2\", width=0.6, fliersize=7, linewidth=2)\n",
        "\n",
        "# Adding title and labels with enhanced styling\n",
        "plt.title('General Index Distribution by Sector', fontsize=18, fontweight='bold', pad=20)\n",
        "plt.xlabel('Sector', fontsize=14)\n",
        "plt.ylabel('General Index', fontsize=14)\n",
        "\n",
        "# Adjust the y-axis gridlines for easier readability\n",
        "plt.grid(True, axis='y', linestyle='--', alpha=0.6)\n",
        "\n",
        "# Rotate x-axis labels if necessary for better readability\n",
        "plt.xticks(rotation=0, ha='right')\n",
        "\n",
        "# Ensure the layout is tight and polished\n",
        "plt.tight_layout()\n",
        "plt.show()"
      ],
      "metadata": {
        "id": "-2vFRxn31gBY"
      },
      "execution_count": null,
      "outputs": []
    },
    {
      "cell_type": "markdown",
      "source": [
        "**(5) Advanced analysis** is important for uncovering deeper insights in the data. It will help to identify relationships between numerical variables through a correlation matrix, providing a clearer understanding of how different features influence each other."
      ],
      "metadata": {
        "id": "j8G4i35l1xWC"
      }
    },
    {
      "cell_type": "code",
      "source": [
        "# Advanced Analysis\n",
        "def advanced_analysis(data):\n",
        "    \"\"\"Perform advanced data analysis, including correlation matrix and trend analysis.\"\"\"\n",
        "    numerical_columns = data.select_dtypes(include=['float64', 'int64']).columns\n",
        "    data_numerical = data[numerical_columns]\n",
        "\n",
        "    # Correlation matrix\n",
        "    correlation_matrix = data_numerical.corr()\n",
        "    print(\"Correlation Matrix:\")\n",
        "    print(correlation_matrix)\n",
        "\n",
        "    # Plot Correlation Heatmap\n",
        "    plt.figure(figsize=(20, 10))\n",
        "    mask = np.triu(np.ones_like(correlation_matrix, dtype=bool))\n",
        "    sns.heatmap(\n",
        "        correlation_matrix,\n",
        "        mask=mask,\n",
        "        annot=True,\n",
        "        fmt='.2f',\n",
        "        cmap='coolwarm',\n",
        "        linewidths=0.5,\n",
        "        annot_kws={\"size\": 10},\n",
        "        cbar_kws={'shrink': 0.8, 'label': 'Correlation Coefficient'}\n",
        "    )\n",
        "    plt.title('Correlation Heatmap', fontsize=18, pad=20)\n",
        "    plt.xticks(fontsize=12, rotation=90, ha='right')\n",
        "    plt.yticks(fontsize=12)\n",
        "    plt.tight_layout()\n",
        "    plt.show()\n",
        "\n",
        "    # Trend Analysis (if applicable)\n",
        "    if 'Year' in data.columns and 'General index' in data.columns:\n",
        "        plt.figure(figsize=(10, 6))\n",
        "        data.groupby('Year')['General index'].mean().plot(label='General Index Trend')\n",
        "        plt.title('General Index Over Time', fontsize=16)\n",
        "        plt.xlabel('Year', fontsize=14)\n",
        "        plt.ylabel('General Index', fontsize=14)\n",
        "        plt.grid(True)\n",
        "        plt.legend()\n",
        "        plt.tight_layout()\n",
        "        plt.show()\n",
        "\n",
        "# Main Execution\n",
        "if __name__ == \"__main__\":\n",
        "    # Basic Summary Statistics\n",
        "    basic_summary_statistics(data)\n",
        "\n",
        "    # Advanced Analysis\n",
        "    advanced_analysis(data)"
      ],
      "metadata": {
        "id": "3cCRljGa1znK"
      },
      "execution_count": null,
      "outputs": []
    }
  ]
}