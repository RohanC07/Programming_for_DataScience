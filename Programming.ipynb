{
  "nbformat": 4,
  "nbformat_minor": 0,
  "metadata": {
    "colab": {
      "provenance": [],
      "authorship_tag": "ABX9TyM/Cz5+YvgxKgzi+hiZyX2Q",
      "include_colab_link": true
    },
    "kernelspec": {
      "name": "python3",
      "display_name": "Python 3"
    },
    "language_info": {
      "name": "python"
    }
  },
  "cells": [
    {
      "cell_type": "markdown",
      "metadata": {
        "id": "view-in-github",
        "colab_type": "text"
      },
      "source": [
        "<a href=\"https://colab.research.google.com/github/RohanC07/Programming_for_DataScience/blob/main/Programming.ipynb\" target=\"_parent\"><img src=\"https://colab.research.google.com/assets/colab-badge.svg\" alt=\"Open In Colab\"/></a>"
      ]
    },
    {
      "cell_type": "markdown",
      "source": [
        "### This dataset represents the **All India Consumer Price Index (CPI)** for both rural and urban areas up to September 2014. The CPI measures changes in the average price level of a basket of consumer goods and services over time, serving as an important indicator of inflation in the country. The dataset covers various regions, helping to analyze price trends and inflationary pressures in rural and urban sectors. The data is crucial for understanding regional price disparities and evaluating the impact of inflation on different population segments.\n"
      ],
      "metadata": {
        "id": "rLDAOQZZzFFm"
      }
    },
    {
      "cell_type": "markdown",
      "source": [
        "**(1)** **Importing the CSV file into the Google Colab!**"
      ],
      "metadata": {
        "id": "N67zXAQdzndf"
      }
    },
    {
      "cell_type": "code",
      "execution_count": null,
      "metadata": {
        "id": "f95xyiMXywuU"
      },
      "outputs": [],
      "source": [
        "from google.colab import drive\n",
        "drive.mount('/content/drive')"
      ]
    },
    {
      "cell_type": "markdown",
      "source": [
        "**(2)** Importing necessary libraries and loading the CSV file using **Pandas,numpy,pyplot**,**seaborn** and **plotly express**"
      ],
      "metadata": {
        "id": "A1z4hSIP0iI5"
      }
    },
    {
      "cell_type": "code",
      "source": [
        "# Import necessary libraries\n",
        "import pandas as pd\n",
        "import numpy as np\n",
        "import matplotlib.pyplot as plt\n",
        "import seaborn as sns\n",
        "import plotly.express as px\n",
        "from scipy import stats\n",
        "import statsmodels.api as sm\n",
        "from statsmodels.formula.api import ols\n",
        "import os\n",
        "import glob\n",
        "from scipy.stats import ttest_ind\n",
        "from scipy import stats\n",
        "import plotly.express as px\n",
        "\n",
        "# *Dataset Description*\n",
        "# Load your dataset (replace with your file path)\n",
        "data = pd.read_csv(\"/content/drive/MyDrive/Colab Notebooks/Assesment/Programming for Data Science/datafile.csv\")\n",
        "data\n"
      ],
      "metadata": {
        "id": "XdjpnfZZ0nbG"
      },
      "execution_count": null,
      "outputs": []
    }
  ]
}