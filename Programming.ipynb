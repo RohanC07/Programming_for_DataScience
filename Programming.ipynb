{
  "nbformat": 4,
  "nbformat_minor": 0,
  "metadata": {
    "colab": {
      "provenance": [],
      "authorship_tag": "ABX9TyMJJPEX5bZKYfyiHDnDN2Y5",
      "include_colab_link": true
    },
    "kernelspec": {
      "name": "python3",
      "display_name": "Python 3"
    },
    "language_info": {
      "name": "python"
    }
  },
  "cells": [
    {
      "cell_type": "markdown",
      "metadata": {
        "id": "view-in-github",
        "colab_type": "text"
      },
      "source": [
        "<a href=\"https://colab.research.google.com/github/RohanC07/Programming_for_DataScience/blob/main/Programming.ipynb\" target=\"_parent\"><img src=\"https://colab.research.google.com/assets/colab-badge.svg\" alt=\"Open In Colab\"/></a>"
      ]
    },
    {
      "cell_type": "markdown",
      "source": [
        "### This dataset represents the **All India Consumer Price Index (CPI)** for both rural and urban areas up to September 2014. The CPI measures changes in the average price level of a basket of consumer goods and services over time, serving as an important indicator of inflation in the country. The dataset covers various regions, helping to analyze price trends and inflationary pressures in rural and urban sectors. The data is crucial for understanding regional price disparities and evaluating the impact of inflation on different population segments.\n"
      ],
      "metadata": {
        "id": "6ozPUTPIn5DN"
      }
    },
    {
      "cell_type": "markdown",
      "source": [
        "**(1)** **Importing the CSV file into the Google Colab!**"
      ],
      "metadata": {
        "id": "pzsopMrKoBu-"
      }
    },
    {
      "cell_type": "code",
      "execution_count": null,
      "metadata": {
        "id": "5ougFb1Jn4Xi"
      },
      "outputs": [],
      "source": [
        "from google.colab import drive\n",
        "drive.mount('/content/drive')"
      ]
    },
    {
      "cell_type": "markdown",
      "source": [
        "**(2)** Importing necessary libraries and loading the CSV file using **Pandas,numpy,pyplot**,**seaborn** and **plotly express**"
      ],
      "metadata": {
        "id": "BkH6-txeoVfl"
      }
    },
    {
      "cell_type": "code",
      "source": [
        "# Import necessary libraries\n",
        "import pandas as pd\n",
        "import numpy as np\n",
        "import matplotlib.pyplot as plt\n",
        "import seaborn as sns\n",
        "import plotly.express as px\n",
        "from scipy import stats\n",
        "import statsmodels.api as sm\n",
        "from statsmodels.formula.api import ols\n",
        "import os\n",
        "import glob\n",
        "from scipy.stats import ttest_ind\n",
        "from scipy import stats\n",
        "import plotly.express as px\n",
        "\n",
        "# Load the dataset\n",
        "data = pd.read_csv(\"/content/drive/MyDrive/Colab Notebooks/Assesment/Programming for Data Science/datafile.csv\")\n",
        "data\n"
      ],
      "metadata": {
        "id": "WN4bJPsooX0s"
      },
      "execution_count": null,
      "outputs": []
    },
    {
      "cell_type": "markdown",
      "source": [
        "**(3) Visualisation** of the data will help in understanding and interpreting the data."
      ],
      "metadata": {
        "id": "2VfZgXPXow50"
      }
    },
    {
      "cell_type": "code",
      "source": [
        "# Basic Summary Statistics\n",
        "def basic_summary_statistics(data):\n",
        "    \"\"\"Generating basic summary statistics\"\"\"\n",
        "    print(\"\\nBasic Summary Statistics:\")\n",
        "    print(data.describe())  # For numerical data\n",
        "    print(\"\\nCategorical Data Frequencies:\")\n",
        "    for col in data.select_dtypes(include=['object']).columns:\n",
        "        print(f\"{col} - \\n{data[col].value_counts()}\")\n",
        "\n",
        "# Ensure the \"Year\" column is strictly numeric\n",
        "data[\"Year\"] = pd.to_numeric(data[\"Year\"], errors=\"coerce\")\n",
        "# Drop rows where \"Year\" is missing or invalid\n",
        "data = data.dropna(subset=[\"Year\"])\n",
        "# Ensure \"Year\" is an integer\n",
        "data[\"Year\"] = data[\"Year\"].astype(int)\n",
        "# Clean the \"Housing\" column to ensure it contains only numeric values\n",
        "data[\"Housing\"] = pd.to_numeric(data[\"Housing\"], errors=\"coerce\")\n",
        "# Impute missing \"Housing\" values with the mean\n",
        "housing_mean = data[\"Housing\"].mean()\n",
        "data[\"Housing\"].fillna(housing_mean, inplace=True)\n",
        "# Select numeric columns for analysis (excluding \"Year\")\n",
        "numeric_columns = data.select_dtypes(include=[\"number\"]).columns\n",
        "numeric_columns_without_year = [col for col in numeric_columns if col != \"Year\"]\n",
        "# Group by \"Year\" and calculate mean for the numeric columns (excluding \"Year\")\n",
        "grouped_data = data.groupby(\"Year\")[numeric_columns_without_year].mean().reset_index()\n",
        "\n",
        "# Plotting the trends for the top 10 indicators\n",
        "plt.figure(figsize=(14, 8))\n",
        "top_10_indicators = grouped_data.mean().sort_values(ascending=False).head(10).index.tolist()\n",
        "\n",
        "for indicator in top_10_indicators:\n",
        "    if indicator in numeric_columns_without_year:  # Only include numeric indicators\n",
        "        plt.plot(grouped_data[\"Year\"], grouped_data[indicator], marker=\"o\", label=indicator)\n",
        "\n",
        "plt.title(\"Top 10 Indicators Over Years\", fontsize=16)\n",
        "plt.xlabel(\"Year\", fontsize=14)\n",
        "plt.ylabel(\"Average Value\", fontsize=14)\n",
        "plt.legend(title=\"Indicators\", bbox_to_anchor=(1.05, 1), loc=\"upper left\")\n",
        "plt.grid(True)\n",
        "plt.tight_layout()\n",
        "plt.show()"
      ],
      "metadata": {
        "id": "YzdewfXboztU"
      },
      "execution_count": null,
      "outputs": []
    },
    {
      "cell_type": "code",
      "source": [
        "#Ensure the \"Year\" column is strictly numeric\n",
        "data[\"Year\"] = pd.to_numeric(data[\"Year\"], errors=\"coerce\")\n",
        "\n",
        "#Drop rows where \"Year\" is missing or invalid\n",
        "data = data.dropna(subset=[\"Year\"])\n",
        "\n",
        "#Ensure \"Year\" is an integer\n",
        "data[\"Year\"] = data[\"Year\"].astype(int)\n",
        "\n",
        "#Clean the \"Housing\" column to ensure it contains only numeric values\n",
        "data[\"Housing\"] = pd.to_numeric(data[\"Housing\"], errors=\"coerce\")\n",
        "\n",
        "#Imputing missing \"Housing\" values with the mean\n",
        "housing_mean = data[\"Housing\"].mean()\n",
        "data[\"Housing\"].fillna(housing_mean, inplace=True)\n",
        "\n",
        "#Filter data for Urban and Rural sectors\n",
        "urban_rural_data = data[data[\"Sector\"].isin([\"Urban\", \"Rural\"])]\n",
        "\n",
        "#Group by Year and Sector to calculate average CPI and Health\n",
        "urban_rural_cpi_health = urban_rural_data[[\"Year\", \"Sector\", \"General index\", \"Health\"]]\n",
        "urban_rural_cpi_health_grouped = urban_rural_cpi_health.groupby([\"Year\", \"Sector\"]).mean().reset_index()\n",
        "\n",
        "#Scatter plot with regression lines for CPI vs Health for Urban and Rural\n",
        "plt.figure(figsize=(14, 8))\n",
        "\n",
        "#Scatter plot for Urban\n",
        "sns.scatterplot(data=urban_rural_cpi_health_grouped[urban_rural_cpi_health_grouped[\"Sector\"] == \"Urban\"],\n",
        "                x=\"General index\", y=\"Health\", color=\"blue\", label=\"Urban\")\n",
        "sns.regplot(data=urban_rural_cpi_health_grouped[urban_rural_cpi_health_grouped[\"Sector\"] == \"Urban\"],\n",
        "            x=\"General index\", y=\"Health\", scatter=False, color=\"blue\", line_kws={\"linestyle\":\"--\"})\n",
        "\n",
        "#Scatter plot for Rural\n",
        "sns.scatterplot(data=urban_rural_cpi_health_grouped[urban_rural_cpi_health_grouped[\"Sector\"] == \"Rural\"],\n",
        "                x=\"General index\", y=\"Health\", color=\"red\", label=\"Rural\")\n",
        "sns.regplot(data=urban_rural_cpi_health_grouped[urban_rural_cpi_health_grouped[\"Sector\"] == \"Rural\"],\n",
        "            x=\"General index\", y=\"Health\", scatter=False, color=\"red\", line_kws={\"linestyle\":\"--\"})\n",
        "\n",
        "#Titles and labels\n",
        "plt.title(\"CPI (General Index) vs. Health: Urban vs Rural\", fontsize=16)\n",
        "plt.xlabel(\"CPI (General Index)\", fontsize=14)\n",
        "plt.ylabel(\"Health\", fontsize=14)\n",
        "plt.legend(title=\"Sector\", bbox_to_anchor=(1.05, 1), loc=\"upper left\")\n",
        "plt.grid(True)\n",
        "plt.tight_layout()\n",
        "plt.show()"
      ],
      "metadata": {
        "id": "G_0Zg4bRo-Mc"
      },
      "execution_count": null,
      "outputs": []
    },
    {
      "cell_type": "markdown",
      "source": [
        "**(4)** Using **Box plots** italicized text to understand the distribution, median, and potential outliers for numerical columns across different categorical columns"
      ],
      "metadata": {
        "id": "Rxw4RV68pbWb"
      }
    },
    {
      "cell_type": "code",
      "source": [
        "#Box plot for distribution\n",
        "plt.figure(figsize=(8, 6))\n",
        "\n",
        "#boxplot with a different color palette\n",
        "sns.boxplot(x='Sector', y='General index', data=data,\n",
        "            palette=\"Set2\", width=0.6, fliersize=7, linewidth=2)\n",
        "\n",
        "# Adding title and labels with enhanced styling\n",
        "plt.title('General Index Distribution by Sector', fontsize=18, fontweight='bold', pad=20)\n",
        "plt.xlabel('Sector', fontsize=14)\n",
        "plt.ylabel('General Index', fontsize=14)\n",
        "\n",
        "# Adjust the y-axis gridlines for easier readability\n",
        "plt.grid(True, axis='y', linestyle='--', alpha=0.6)\n",
        "\n",
        "# Rotate x-axis labels if necessary for better readability\n",
        "plt.xticks(rotation=0, ha='right')\n",
        "\n",
        "# Ensure the layout is tight and polished\n",
        "plt.tight_layout()\n",
        "plt.show()"
      ],
      "metadata": {
        "id": "6QNvKtJVpb5U"
      },
      "execution_count": null,
      "outputs": []
    }
  ]
}